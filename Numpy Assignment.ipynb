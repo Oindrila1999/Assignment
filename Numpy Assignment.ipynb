{
 "cells": [
  {
   "cell_type": "markdown",
   "metadata": {},
   "source": [
    "# 1: Write a function so that the columns of the output matrix are powers of the input vector. \n",
    "# The order of the powers is determined by the increasing boolean argument. Specifically, when increasing is False, the i-th output column is the input vector raised element-wise to the power of N - i - 1. \n",
    "# HINT: Such a matrix with a geometric progression in each row is named for Alexandre- Theophile Vandermonde. \n"
   ]
  },
  {
   "cell_type": "code",
   "execution_count": 1,
   "metadata": {},
   "outputs": [
    {
     "name": "stdout",
     "output_type": "stream",
     "text": [
      "1 2 3 4 5\n",
      "enter the integer: 4\n",
      "when increasing order is true: \n",
      " [[  1   1   1   1]\n",
      " [  1   2   4   8]\n",
      " [  1   3   9  27]\n",
      " [  1   4  16  64]\n",
      " [  1   5  25 125]]\n",
      "when increasing order is false: \n",
      " [[  1   1   1   1]\n",
      " [  8   4   2   1]\n",
      " [ 27   9   3   1]\n",
      " [ 64  16   4   1]\n",
      " [125  25   5   1]]\n"
     ]
    }
   ],
   "source": [
    "import numpy as np\n",
    "def make_vander(arr,N=None,increasing=False):\n",
    "    output=None\n",
    "    if(N==None):\n",
    "        N=len(arr)\n",
    "    if(increasing==False):\n",
    "        output=np.array([[j**(N-i-1) for i in range(N)] for j in arr])\n",
    "    else:\n",
    "        output=np.array([[j**(i) for i in range(N)]for j in arr])\n",
    "    return output\n",
    "        \n",
    "if __name__=='__main__':\n",
    "    arr=np.array(list(map(int,input().split())))\n",
    "    N=int(input(\"enter the integer: \"))\n",
    "    output_matrix_1=make_vander(arr,N,True)\n",
    "    print(\"when increasing order is true: \\n\",output_matrix_1)\n",
    "    output_matrix_2=make_vander(arr,N,False)\n",
    "    print(\"when increasing order is false: \\n\",output_matrix_2)"
   ]
  },
  {
   "cell_type": "markdown",
   "metadata": {},
   "source": [
    "# 2: Given a sequence of n values x1, x2, ..., xn and a window size k>0, the k-th moving average of the given sequence is defined as follows: \n",
    "# The moving average sequence has n-k+1 elements as shown below. \n",
    "# The moving averages with k=4 of a ten-value sequence (n=10) is shown below \n",
    "#    i    1 2 3 4 5 6 7 8 9 10 \n",
    "# ===== == == == == == == == == == ==\n",
    "# Input 10 20 30 40 50 60 70 80 90 100 \n",
    "# y1 25 = (10+20+30+40)/4 \n",
    "# y2 35 = (20+30+40+50)/4 \n",
    "# y3 45 = (30+40+50+60)/4 \n",
    "# y4 55 = (40+50+60+70)/4 \n",
    "# y5 65 = (50+60+70+80)/4\n",
    "# y6 75 = (60+70+80+90)/4\n",
    "# y7 85 = (70+80+90+100)/4 \n",
    "# Thus, the moving average sequence has n-k+1=10-4+1=7 values. \n",
    "# Question: Write a function to find moving average in an array over a window: \n",
    "# Test it over [3, 5, 7, 2, 8, 10, 11, 65, 72, 81, 99, 100, 150] and window of 3. \n"
   ]
  },
  {
   "cell_type": "code",
   "execution_count": 8,
   "metadata": {},
   "outputs": [
    {
     "name": "stdout",
     "output_type": "stream",
     "text": [
      "enter the sequence length: 13\n",
      "3,5,7,2,8,10,11,65,72,81,99,100,150\n",
      "enter the window size: 3\n",
      "[5.0, 4.666666666666667, 5.666666666666667, 6.666666666666667, 9.666666666666666, 28.666666666666668, 49.333333333333336, 72.66666666666667, 84.0, 93.33333333333333, 116.33333333333333]\n"
     ]
    }
   ],
   "source": [
    "def moving_average(n,arr,k):\n",
    "    moving_averages=[]\n",
    "    for i in range(n-k+1):\n",
    "        new_arr=arr[i:i+k]\n",
    "        moving_sum=sum(new_arr)\n",
    "        moving_averages.append(moving_sum/k)\n",
    "    return moving_averages\n",
    "if __name__==\"__main__\":\n",
    "    n=int(input(\"enter the sequence length: \"))\n",
    "    arr=list(map(int,input().split(\",\")))\n",
    "    k=int(input(\"enter the window size: \"))\n",
    "    output=moving_average(n,arr,k)\n",
    "    print(output)"
   ]
  }
 ],
 "metadata": {
  "kernelspec": {
   "display_name": "Python 3",
   "language": "python",
   "name": "python3"
  },
  "language_info": {
   "codemirror_mode": {
    "name": "ipython",
    "version": 3
   },
   "file_extension": ".py",
   "mimetype": "text/x-python",
   "name": "python",
   "nbconvert_exporter": "python",
   "pygments_lexer": "ipython3",
   "version": "3.7.6"
  }
 },
 "nbformat": 4,
 "nbformat_minor": 4
}
