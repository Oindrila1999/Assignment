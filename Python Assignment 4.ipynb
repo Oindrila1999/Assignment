{
 "cells": [
  {
   "cell_type": "markdown",
   "metadata": {},
   "source": [
    "# 1.1 Write a Python Program(with class concepts) to find the area of the triangle using the below formula.\n",
    "# area = (s*(s-a)*(s-b)*(s-c)) ** 0.5\n",
    "# Function to take the length of the sides of triangle from user should be defined in the parent class and function to calculate the area should be defined in subclass.\n"
   ]
  },
  {
   "cell_type": "code",
   "execution_count": 1,
   "metadata": {},
   "outputs": [
    {
     "name": "stdout",
     "output_type": "stream",
     "text": [
      "enter the first side: 7\n",
      "enter the second side: 5\n",
      "enter the third side: 8\n",
      "the area is 17.320508075688775\n"
     ]
    }
   ],
   "source": [
    "class Sides:\n",
    "    def takesides(self):\n",
    "        a=float(input(\"enter the first side: \"))\n",
    "        b=float(input(\"enter the second side: \"))\n",
    "        c=float(input(\"enter the third side: \"))\n",
    "        self.a=a\n",
    "        self.b=b\n",
    "        self.c=c\n",
    "class Triangle(Sides):\n",
    "    def get_area(self):\n",
    "        super().takesides()\n",
    "        s=(self.a+self.b+self.c)/2\n",
    "        if(s==self.a or s==self.b or s==self.c):\n",
    "            return 0\n",
    "        else:\n",
    "            cal=(s*(s-self.a)*(s-self.b)*(s-self.c))\n",
    "            if(cal<0):\n",
    "                return 0\n",
    "            else:\n",
    "                area=(cal**0.5)\n",
    "                return area\n",
    "if __name__==\"__main__\":\n",
    "    t=Triangle()\n",
    "    z=t.get_area()\n",
    "    if(z==0):\n",
    "        print(\"Triangle is not possible\")\n",
    "    else:\n",
    "        print(f\"the area is {z}\")"
   ]
  },
  {
   "cell_type": "markdown",
   "metadata": {},
   "source": [
    "# 1.2 Write a function filter_long_words() that takes a list of words and an integer n and returns the list of words that are longer than n."
   ]
  },
  {
   "cell_type": "code",
   "execution_count": 3,
   "metadata": {},
   "outputs": [
    {
     "name": "stdout",
     "output_type": "stream",
     "text": [
      "enter the words:oindrila,sayan,neha,koustav,koushik,purnika,daya,bhide\n",
      "enter the integer:4\n",
      "['oindrila', 'sayan', 'koustav', 'koushik', 'purnika', 'bhide']\n"
     ]
    }
   ],
   "source": [
    "def filter_long_words(words,n):\n",
    "    result=[]\n",
    "    for i in words:\n",
    "        if(len(i)>n):\n",
    "            if i not in result:\n",
    "                result.append(i)\n",
    "    return result\n",
    "\n",
    "if __name__==\"__main__\":\n",
    "    words=list(map(str,input(\"enter the words:\").split(\",\")))\n",
    "    n=int(input(\"enter the integer:\"))\n",
    "    r=filter_long_words(words,n)\n",
    "    print(r)"
   ]
  },
  {
   "cell_type": "markdown",
   "metadata": {},
   "source": [
    "# 2.1 Write a Python program using function concept that maps list of words into a list of integers representing the lengths of the corresponding words .\n",
    "# Hint: If a list [ ab,cde,erty] is passed on to the python function output should come as [2,3,4]\n",
    "# Here 2,3 and 4 are the lengths of the words in the list."
   ]
  },
  {
   "cell_type": "code",
   "execution_count": 5,
   "metadata": {},
   "outputs": [
    {
     "name": "stdout",
     "output_type": "stream",
     "text": [
      "enter the words:ab,cde,erty\n",
      "[2, 3, 4]\n"
     ]
    }
   ],
   "source": [
    "def length(words):\n",
    "    r=[len(i) for i in words]\n",
    "    return r\n",
    "if __name__==\"__main__\":\n",
    "    words=list(map(str,input(\"enter the words:\").split(\",\")))\n",
    "    result=length(words)\n",
    "    print(result)"
   ]
  },
  {
   "cell_type": "markdown",
   "metadata": {},
   "source": [
    "# 2.2 Write a Python function which takes a character (i.e. a string of length 1) and returns True if it is a vowel, False otherwise."
   ]
  },
  {
   "cell_type": "code",
   "execution_count": 1,
   "metadata": {},
   "outputs": [
    {
     "name": "stdout",
     "output_type": "stream",
     "text": [
      "enter the character:a\n",
      "True\n"
     ]
    }
   ],
   "source": [
    "def check(char):\n",
    "    if(char=='a' or char=='e' or char=='i' or char=='o' or char=='u' or char=='A' or char=='E' or char=='I' or \n",
    "       char=='O' or char=='U'):\n",
    "        return True\n",
    "    else:\n",
    "        return False\n",
    "if __name__==\"__main__\":\n",
    "    character=input(\"enter the character:\")\n",
    "    result=check(character)\n",
    "    print(result)"
   ]
  }
 ],
 "metadata": {
  "kernelspec": {
   "display_name": "Python 3",
   "language": "python",
   "name": "python3"
  },
  "language_info": {
   "codemirror_mode": {
    "name": "ipython",
    "version": 3
   },
   "file_extension": ".py",
   "mimetype": "text/x-python",
   "name": "python",
   "nbconvert_exporter": "python",
   "pygments_lexer": "ipython3",
   "version": "3.7.4"
  }
 },
 "nbformat": 4,
 "nbformat_minor": 4
}
